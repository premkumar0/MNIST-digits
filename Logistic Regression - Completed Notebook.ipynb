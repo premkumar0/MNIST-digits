{
 "cells": [
  {
   "cell_type": "markdown",
   "metadata": {},
   "source": [
    "# Deep Learning Fundamentals - Logistic Regression\n",
    "\n",
    "# Task 1: Introduction"
   ]
  },
  {
   "cell_type": "code",
   "execution_count": 3,
   "metadata": {},
   "outputs": [
    {
     "name": "stdout",
     "output_type": "stream",
     "text": [
      "Libraries imported\n"
     ]
    }
   ],
   "source": [
    "import random\n",
    "import numpy as np\n",
    "import warnings\n",
    "import helpers.plt, helpers.dataset\n",
    "from matplotlib import pyplot as plt\n",
    "%matplotlib inline\n",
    "warnings.filterwarnings('ignore')\n",
    "\n",
    "print('Libraries imported')"
   ]
  },
  {
   "cell_type": "markdown",
   "metadata": {},
   "source": [
    "# Task 2: Hyperparameters"
   ]
  },
  {
   "cell_type": "code",
   "execution_count": 4,
   "metadata": {
    "tags": [
     "parameters"
    ]
   },
   "outputs": [],
   "source": [
    "lr = 0.3\n",
    "batch_size = 300\n",
    "iterations = 40"
   ]
  },
  {
   "cell_type": "markdown",
   "metadata": {},
   "source": [
    "# Task 3: Dataset"
   ]
  },
  {
   "cell_type": "code",
   "execution_count": 5,
   "metadata": {},
   "outputs": [
    {
     "name": "stdout",
     "output_type": "stream",
     "text": [
      "Loading data..\n",
      "Downloading data from https://storage.googleapis.com/tensorflow/tf-keras-datasets/mnist.npz\n",
      "11493376/11490434 [==============================] - 30s 3us/step\n",
      "Done.\n"
     ]
    }
   ],
   "source": [
    "(X_train, Y_train), (X_test, Y_test) = helpers.dataset.get_data()"
   ]
  },
  {
   "cell_type": "code",
   "execution_count": 6,
   "metadata": {},
   "outputs": [
    {
     "name": "stdout",
     "output_type": "stream",
     "text": [
      "Shape of X_train: (12665, 28, 28)\n",
      "Shape of Y_train: (12665,)\n",
      "Shape of X_test: (2115, 28, 28)\n",
      "Shape of Y_test: (2115,)\n"
     ]
    }
   ],
   "source": [
    "print('Shape of X_train:', X_train.shape)\n",
    "print('Shape of Y_train:', Y_train.shape)\n",
    "print('Shape of X_test:', X_test.shape)\n",
    "print('Shape of Y_test:', Y_test.shape)"
   ]
  },
  {
   "cell_type": "code",
   "execution_count": 7,
   "metadata": {},
   "outputs": [
    {
     "data": {
      "image/png": "[encoded data removed]",
      "text/plain": [
       "<Figure size 432x288 with 1 Axes>"
      ]
     },
     "metadata": {},
     "output_type": "display_data"
    }
   ],
   "source": [
    "helpers.plt.show_example(X_train[0], Y_train[0])"
   ]
  },
  {
   "cell_type": "code",
   "execution_count": 8,
   "metadata": {},
   "outputs": [
    {
     "data": {
      "image/png": "[encoded data removed]",
      "text/plain": [
       "<Figure size 432x288 with 1 Axes>"
      ]
     },
     "metadata": {},
     "output_type": "display_data"
    }
   ],
   "source": [
    "helpers.plt.show_example(X_train[-1], Y_train[-1])"
   ]
  },
  {
   "cell_type": "markdown",
   "metadata": {},
   "source": [
    "# Task 4: A Mini Batch of Examples"
   ]
  },
  {
   "cell_type": "code",
   "execution_count": 9,
   "metadata": {},
   "outputs": [
    {
     "name": "stdout",
     "output_type": "stream",
     "text": [
      "X_batch shape: (1, 784)\n"
     ]
    },
    {
     "data": {
      "image/png": "[encoded data removed]",
      "text/plain": [
       "<Figure size 432x288 with 1 Axes>"
      ]
     },
     "metadata": {},
     "output_type": "display_data"
    }
   ],
   "source": [
    "X_batch, Y_batch = helpers.dataset.get_random_batch(X_train, Y_train, 1)\n",
    "print('X_batch shape:', X_batch.shape)\n",
    "helpers.plt.show_example(X_batch[0], Y_batch[0])"
   ]
  },
  {
   "cell_type": "code",
   "execution_count": 10,
   "metadata": {},
   "outputs": [
    {
     "data": {
      "image/png": "[encoded data removed]",
      "text/plain": [
       "<Figure size 432x288 with 1 Axes>"
      ]
     },
     "metadata": {},
     "output_type": "display_data"
    }
   ],
   "source": [
    "X_batch, Y_batch = helpers.dataset.get_random_batch(X_test, Y_test, 1)\n",
    "helpers.plt.show_example(X_batch[0], Y_batch[0])"
   ]
  },
  {
   "cell_type": "code",
   "execution_count": 11,
   "metadata": {},
   "outputs": [
    {
     "data": {
      "image/png": "[encoded data removed]",
      "text/plain": [
       "<Figure size 576x288 with 10 Axes>"
      ]
     },
     "metadata": {},
     "output_type": "display_data"
    }
   ],
   "source": [
    "X_batch, Y_batch = helpers.dataset.get_random_batch(X_train, Y_train, 10)\n",
    "helpers.plt.show_ten_examples(X_batch, Y_batch, Y_batch)"
   ]
  },
  {
   "cell_type": "markdown",
   "metadata": {},
   "source": [
    "# Task 5: Create Model"
   ]
  },
  {
   "cell_type": "code",
   "execution_count": 12,
   "metadata": {},
   "outputs": [
    {
     "name": "stdout",
     "output_type": "stream",
     "text": [
      "=================================\n",
      "Number of features: 784\n",
      "Shape of weights: (784, 1)\n",
      "Shape of biases: (1, 1)\n",
      "=================================\n"
     ]
    }
   ],
   "source": [
    "class LogisticModel:\n",
    "    def __init__(self, num_features):\n",
    "        self.W = np.reshape(np.random.randn((num_features)), (num_features, 1))\n",
    "        self.b = np.zeros((1, 1))\n",
    "        self.num_features = num_features\n",
    "        self.losses = []\n",
    "        self.accuracies = []\n",
    "        \n",
    "    def summary(self):\n",
    "        print('=================================')\n",
    "        print('Number of features:', self.num_features)\n",
    "        print('Shape of weights:', self.W.shape)\n",
    "        print('Shape of biases:', self.b.shape)\n",
    "        print('=================================')\n",
    "        \n",
    "model = LogisticModel(num_features=784)\n",
    "model.summary()"
   ]
  },
  {
   "cell_type": "markdown",
   "metadata": {},
   "source": [
    "# Task 6: Forward Pass"
   ]
  },
  {
   "cell_type": "code",
   "execution_count": 13,
   "metadata": {},
   "outputs": [],
   "source": [
    "class LogisticModel(LogisticModel):\n",
    "    def _forward_pass(self, X, Y=None):\n",
    "        batch_size = X.shape[0]\n",
    "        Z = np.dot(X, self.W) + self.b\n",
    "        A = 1. / (1. + np.exp(-Z))\n",
    "        loss = float(1e5)\n",
    "        if Y is not None:\n",
    "            loss = -1 * np.sum(np.dot(np.transpose(Y), np.log(A)) + \\\n",
    "                           np.matmul(np.transpose(1-Y), np.log(1-A)))\n",
    "            loss /= batch_size\n",
    "        return A, loss"
   ]
  },
  {
   "cell_type": "markdown",
   "metadata": {},
   "source": [
    "# Task 7: Backward Pass"
   ]
  },
  {
   "cell_type": "code",
   "execution_count": 14,
   "metadata": {},
   "outputs": [],
   "source": [
    "class LogisticModel(LogisticModel):\n",
    "    def _backward_pass(self, A, X, Y):\n",
    "        batch_size = X.shape[0]\n",
    "        dZ = A - Y\n",
    "        dW = np.dot(np.transpose(X), dZ)/batch_size\n",
    "        db = np.sum(dZ)/batch_size\n",
    "        return dW, db"
   ]
  },
  {
   "cell_type": "markdown",
   "metadata": {},
   "source": [
    "# Task 8: Update Parameters"
   ]
  },
  {
   "cell_type": "code",
   "execution_count": 15,
   "metadata": {},
   "outputs": [],
   "source": [
    "class LogisticModel(LogisticModel):\n",
    "    def _update_params(self, dW, db, lr):\n",
    "        self.W -= lr * dW\n",
    "        self.b -= lr * db"
   ]
  },
  {
   "cell_type": "markdown",
   "metadata": {},
   "source": [
    "# Task 9: Check Model Performance"
   ]
  },
  {
   "cell_type": "code",
   "execution_count": 16,
   "metadata": {},
   "outputs": [],
   "source": [
    "class LogisticModel(LogisticModel):\n",
    "    def predict(self, X, Y=None):\n",
    "        A, loss = self._forward_pass(X, Y)\n",
    "        Y_hat = A > 0.5\n",
    "        return np.squeeze(Y_hat), loss\n",
    "    \n",
    "    def evaluate(self, X, Y):\n",
    "        Y_hat, loss = self.predict(X, Y)\n",
    "        accuracy = np.sum(Y_hat == np.squeeze(Y)) / X.shape[0]\n",
    "        return accuracy, loss"
   ]
  },
  {
   "cell_type": "code",
   "execution_count": 17,
   "metadata": {},
   "outputs": [
    {
     "name": "stdout",
     "output_type": "stream",
     "text": [
      "=================================\n",
      "Number of features: 784\n",
      "Shape of weights: (784, 1)\n",
      "Shape of biases: (1, 1)\n",
      "=================================\n",
      "Untrained model accuracy: 0.37666666666666665, loss:3.0367494064935334\n"
     ]
    }
   ],
   "source": [
    "model = LogisticModel(num_features=784)\n",
    "\n",
    "model.summary()\n",
    "X, Y = helpers.dataset.get_random_batch(X_test, Y_test, batch_size)\n",
    "acc, loss = model.evaluate(X, Y)\n",
    "print('Untrained model accuracy: {}, loss:{}'.format(acc, loss))"
   ]
  },
  {
   "cell_type": "code",
   "execution_count": 18,
   "metadata": {},
   "outputs": [
    {
     "data": {
      "image/png": "[encoded data removed]",
      "text/plain": [
       "<Figure size 576x288 with 10 Axes>"
      ]
     },
     "metadata": {},
     "output_type": "display_data"
    }
   ],
   "source": [
    "X, Y = helpers.dataset.get_random_batch(X_test, Y_test, batch_size)\n",
    "preds, _ = model.predict(X)\n",
    "helpers.plt.show_ten_examples(X, Y, preds)"
   ]
  },
  {
   "cell_type": "markdown",
   "metadata": {},
   "source": [
    "# Task 10: Training Loop"
   ]
  },
  {
   "cell_type": "code",
   "execution_count": 19,
   "metadata": {},
   "outputs": [],
   "source": [
    "class LogisticModel(LogisticModel):\n",
    "    def train(self, batch_size, get_batch, lr, iterations, X_train, Y_train, X_test, Y_test):\n",
    "\n",
    "        print('Training..')\n",
    "        self.accuracies = []\n",
    "        self.losses = []\n",
    "        \n",
    "        for i in range(0, iterations):\n",
    "            X, Y = get_batch(X_train, Y_train, batch_size)\n",
    "            A, _ = self._forward_pass(X, Y)  \n",
    "            dW, db = self._backward_pass(A, X, Y)\n",
    "            self._update_params(dW, db, lr)\n",
    "            \n",
    "            X, Y = get_batch(X_test, Y_test, batch_size)\n",
    "            val_acc, val_loss = self.evaluate(X, Y)\n",
    "            self.accuracies.append(val_acc)\n",
    "            self.losses.append(val_loss)\n",
    "            \n",
    "            print('Iter: {}, Val Acc: {:.3f}, Val Loss: {:.3f}'.format(i, val_acc, val_loss))\n",
    "            \n",
    "        print('Training finished.')"
   ]
  },
  {
   "cell_type": "markdown",
   "metadata": {},
   "source": [
    "# Task 11: Training the Model"
   ]
  },
  {
   "cell_type": "code",
   "execution_count": 20,
   "metadata": {},
   "outputs": [
    {
     "name": "stdout",
     "output_type": "stream",
     "text": [
      "Before training performance: (0.81, 0.9901280444339426)\n",
      "Training..\n",
      "Iter: 0, Val Acc: 0.800, Val Loss: 0.823\n",
      "Iter: 1, Val Acc: 0.817, Val Loss: 0.650\n",
      "Iter: 2, Val Acc: 0.850, Val Loss: 0.568\n",
      "Iter: 3, Val Acc: 0.863, Val Loss: 0.488\n",
      "Iter: 4, Val Acc: 0.880, Val Loss: 0.494\n",
      "Iter: 5, Val Acc: 0.920, Val Loss: 0.256\n",
      "Iter: 6, Val Acc: 0.933, Val Loss: 0.255\n",
      "Iter: 7, Val Acc: 0.937, Val Loss: 0.232\n",
      "Iter: 8, Val Acc: 0.940, Val Loss: 0.292\n",
      "Iter: 9, Val Acc: 0.947, Val Loss: 0.203\n",
      "Iter: 10, Val Acc: 0.943, Val Loss: 0.142\n",
      "Iter: 11, Val Acc: 0.930, Val Loss: 0.261\n",
      "Iter: 12, Val Acc: 0.937, Val Loss: 0.200\n",
      "Iter: 13, Val Acc: 0.957, Val Loss: 0.120\n",
      "Iter: 14, Val Acc: 0.970, Val Loss: 0.144\n",
      "Iter: 15, Val Acc: 0.953, Val Loss: 0.142\n",
      "Iter: 16, Val Acc: 0.953, Val Loss: 0.211\n",
      "Iter: 17, Val Acc: 0.957, Val Loss: 0.150\n",
      "Iter: 18, Val Acc: 0.960, Val Loss: 0.147\n",
      "Iter: 19, Val Acc: 0.980, Val Loss: 0.076\n",
      "Iter: 20, Val Acc: 0.963, Val Loss: 0.129\n",
      "Iter: 21, Val Acc: 0.950, Val Loss: 0.143\n",
      "Iter: 22, Val Acc: 0.977, Val Loss: 0.092\n",
      "Iter: 23, Val Acc: 0.967, Val Loss: 0.116\n",
      "Iter: 24, Val Acc: 0.980, Val Loss: 0.061\n",
      "Iter: 25, Val Acc: 0.973, Val Loss: 0.126\n",
      "Iter: 26, Val Acc: 0.977, Val Loss: 0.064\n",
      "Iter: 27, Val Acc: 0.983, Val Loss: 0.055\n",
      "Iter: 28, Val Acc: 0.980, Val Loss: 0.085\n",
      "Iter: 29, Val Acc: 0.987, Val Loss: 0.045\n",
      "Iter: 30, Val Acc: 0.980, Val Loss: 0.053\n",
      "Iter: 31, Val Acc: 0.960, Val Loss: 0.134\n",
      "Iter: 32, Val Acc: 0.983, Val Loss: 0.064\n",
      "Iter: 33, Val Acc: 0.963, Val Loss: 0.088\n",
      "Iter: 34, Val Acc: 0.983, Val Loss: 0.035\n",
      "Iter: 35, Val Acc: 0.977, Val Loss: 0.060\n",
      "Iter: 36, Val Acc: 0.970, Val Loss: 0.095\n",
      "Iter: 37, Val Acc: 0.993, Val Loss: 0.018\n",
      "Iter: 38, Val Acc: 0.963, Val Loss: 0.066\n",
      "Iter: 39, Val Acc: 0.983, Val Loss: 0.033\n",
      "Training finished.\n",
      "After training performance: (0.98, 0.06264885218769739)\n"
     ]
    }
   ],
   "source": [
    "model = LogisticModel(num_features=784)\n",
    "\n",
    "X, Y = helpers.dataset.get_random_batch(X_test, Y_test, batch_size)\n",
    "print('Before training performance:', model.evaluate(X, Y))\n",
    "model.train(\n",
    "    batch_size,\n",
    "    helpers.dataset.get_random_batch,\n",
    "    lr,\n",
    "    iterations,\n",
    "    X_train, Y_train,\n",
    "    X_test, Y_test\n",
    ")\n",
    "print('After training performance:', model.evaluate(X, Y))"
   ]
  },
  {
   "cell_type": "code",
   "execution_count": 21,
   "metadata": {},
   "outputs": [
    {
     "data": {
      "image/png": "[encoded data removed]",
      "text/plain": [
       "<Figure size 864x288 with 2 Axes>"
      ]
     },
     "metadata": {
      "needs_background": "light"
     },
     "output_type": "display_data"
    }
   ],
   "source": [
    "helpers.plt.plot_metrics(model)"
   ]
  },
  {
   "cell_type": "code",
   "execution_count": 22,
   "metadata": {},
   "outputs": [
    {
     "data": {
      "image/png": "[encoded data removed]",
      "text/plain": [
       "<Figure size 576x288 with 10 Axes>"
      ]
     },
     "metadata": {},
     "output_type": "display_data"
    }
   ],
   "source": [
    "X, Y = helpers.dataset.get_random_batch(X_test, Y_test, batch_size)\n",
    "preds, _ = model.predict(X)\n",
    "helpers.plt.show_ten_examples(X, Y, preds)"
   ]
  },
  {
   "cell_type": "code",
   "execution_count": null,
   "metadata": {},
   "outputs": [],
   "source": []
  }
 ],
 "metadata": {
  "kernelspec": {
   "display_name": "Python 3",
   "language": "python",
   "name": "python3"
  },
  "language_info": {
   "codemirror_mode": {
    "name": "ipython",
    "version": 3
   },
   "file_extension": ".py",
   "mimetype": "text/x-python",
   "name": "python",
   "nbconvert_exporter": "python",
   "pygments_lexer": "ipython3",
   "version": "3.7.4"
  }
 },
 "nbformat": 4,
 "nbformat_minor": 2
}
